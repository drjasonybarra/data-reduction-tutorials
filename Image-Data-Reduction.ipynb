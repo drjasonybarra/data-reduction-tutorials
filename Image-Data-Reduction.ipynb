{
 "cells": [
  {
   "cell_type": "markdown",
   "metadata": {},
   "source": [
    "# Astronomical Image Data Reduction\n",
    "## for near-infrared wavelengths\n",
    "\n",
    "Data reduction for near-infrared \\(NIR\\) images is similar to visible light images except for the added steps of removing the strong atmospheric background. Traditionally this was done using the software package [IRAF](http://iraf.noao.edu/) developed by the National Optical Astronomy Observatory \\(NOAO\\). This set of tools is a little buggy, and newer generations of astronomers are turning to Python instead.\n",
    "\n",
    "In this tutorial, we will practice using the [AstroPy](http://docs.astropy.org/en/stable/index.html) package in a Python environment. First load the NumPy, Matplotlib Pyplot, and AstroPy FITS modules\n",
    "\n"
   ]
  },
  {
   "cell_type": "code",
   "execution_count": 2,
   "metadata": {},
   "outputs": [],
   "source": [
    "import numpy as np #library for array operations and high-level math functions\n",
    "import matplotlib.pyplot as plt #for making plots\n",
    "from astropy.io import fits #to access FITS files"
   ]
  },
  {
   "cell_type": "markdown",
   "metadata": {},
   "source": [
    "FITS is the standard file format for astronomical imaging data. FITS files contain both multi-dimensional array data (1D spectra, 2D images, 3D+ data cubes) and descriptive information about the data."
   ]
  },
  {
   "cell_type": "code",
   "execution_count": null,
   "metadata": {},
   "outputs": [],
   "source": []
  }
 ],
 "metadata": {
  "kernelspec": {
   "display_name": "Python 2",
   "language": "python",
   "name": "python2"
  },
  "language_info": {
   "codemirror_mode": {
    "name": "ipython",
    "version": 2
   },
   "file_extension": ".py",
   "mimetype": "text/x-python",
   "name": "python",
   "nbconvert_exporter": "python",
   "pygments_lexer": "ipython2",
   "version": "2.7.15"
  }
 },
 "nbformat": 4,
 "nbformat_minor": 2
}
