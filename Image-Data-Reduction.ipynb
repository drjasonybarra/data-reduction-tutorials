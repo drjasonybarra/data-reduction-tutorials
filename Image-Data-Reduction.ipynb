{
 "cells": [
  {
   "cell_type": "markdown",
   "metadata": {},
   "source": [
    "# Astronomical Image Data Reduction\n",
    "## for near-infrared wavelengths\n",
    "\n",
    "Data reduction for near-infrared \\(NIR\\) images is similar to visible light images except for the added steps of removing the strong atmospheric background. Traditionally this was done using the software package [IRAF](http://iraf.noao.edu/) developed by the National Optical Astronomy Observatory \\(NOAO\\). This set of tools is a little buggy, and newer generations of astronomers are turning to Python instead.\n",
    "\n",
    "In this tutorial, we will practice using the [AstroPy](http://docs.astropy.org/en/stable/index.html) package in a Python environment. First load the NumPy, Matplotlib Pyplot, and AstroPy FITS modules\n",
    "\n"
   ]
  },
  {
   "cell_type": "code",
   "execution_count": 1,
   "metadata": {},
   "outputs": [],
   "source": [
    "import numpy as np #library for array operations and high-level math functions\n",
    "import matplotlib.pyplot as plt #for making plots\n",
    "from astropy.io import fits #to access FITS files"
   ]
  },
  {
   "cell_type": "markdown",
   "metadata": {},
   "source": [
    "## Working with FITS files\n",
    "\n",
    "FITS is the standard file format for astronomical imaging data. FITS files contain both multi-dimensional array data (1D spectra, 2D images, 3D+ data cubes) and descriptive information about the data.\n",
    "\n",
    "To read in a FITS file use the `fits.open()` function where the argument is the filename. Use the code below to read in the 2MASS *J*-band image of HII region RCW 87. "
   ]
  },
  {
   "cell_type": "code",
   "execution_count": 2,
   "metadata": {},
   "outputs": [],
   "source": [
    "hdul = fits.open('RCW87_2MASS_J.fits')"
   ]
  },
  {
   "cell_type": "markdown",
   "metadata": {},
   "source": [
    "fits.open() will return a list of top-level data objects called Header Data Unit (HDU) objects. To obtain a summary of the list type ``hdul.info()``"
   ]
  },
  {
   "cell_type": "code",
   "execution_count": 3,
   "metadata": {},
   "outputs": [
    {
     "name": "stdout",
     "output_type": "stream",
     "text": [
      "Filename: RCW87_2MASS_J.fits\n",
      "No.    Name      Ver    Type      Cards   Dimensions   Format\n",
      "  0  PRIMARY       1 PrimaryHDU     113   (342, 342)   float32   \n"
     ]
    }
   ],
   "source": [
    "hdul.info()"
   ]
  },
  {
   "cell_type": "markdown",
   "metadata": {},
   "source": [
    "It is very common for a FITS file to contain only a single HDU called the PrimaryHDU which consists of header information and typically array data. If a HDU contains an array, the dimensions of the array are given.\n",
    "\n",
    "The `.header` and `.data` attributes can be used to access the header and data portions of the HDU. Common practice is to separate the header and data portions. Execute the following."
   ]
  },
  {
   "cell_type": "code",
   "execution_count": 4,
   "metadata": {},
   "outputs": [],
   "source": [
    "hdr = hdul[0].header\n",
    "data = hdul[0].data"
   ]
  },
  {
   "cell_type": "markdown",
   "metadata": {},
   "source": [
    "To look at the entire header, type `print(repr(hdr))`"
   ]
  },
  {
   "cell_type": "code",
   "execution_count": 5,
   "metadata": {},
   "outputs": [
    {
     "name": "stdout",
     "output_type": "stream",
     "text": [
      "SIMPLE  =                    T / file does conform to FITS standard             \n",
      "BITPIX  =                  -32 / number of bits per data pixel                  \n",
      "NAXIS   =                    2 / number of data axes                            \n",
      "NAXIS1  =                  342 / length of data axis 1                          \n",
      "NAXIS2  =                  342 / length of data axis 2                          \n",
      "EXTEND  =                    T / FITS dataset may contain extensions            \n",
      "COMMENT   FITS (Flexible Image Transport System) format is defined in 'Astronomy\n",
      "COMMENT   and Astrophysics', volume 376, page 359; bibcode: 2001A&A...376..359H \n",
      "ORDATE  = '990607  '             / Observation Ref Date (yymmdd)                \n",
      "DAYNUM  = '0829    '             / Observation Day Num                          \n",
      "FN_PRFX = 'j0829049'             / .rdo and .par filename prefix                \n",
      "TYPE    = 'sci     '             / Scan type: dar flt sci cal tst               \n",
      "SCANNO  =                   49   / Scan Number                                  \n",
      "SCANDIR = 'n       '             / Scan Direction: n, s, -                      \n",
      "COMMENT                                  (OV)                                   \n",
      "STRIP_ID=               324641   / Strip ID (OV)                                \n",
      "POSITNID= 's541504 '             / Position ID (OV)                             \n",
      "ORIGIN  = '2MASS   '             / 2MASS Survey Camera                          \n",
      "CTYPE1  = 'RA---SIN'             / Orthographic Projection                      \n",
      "CTYPE2  = 'DEC--SIN'             / Orthographic Projection                      \n",
      "CRPIX1  =            2.075E+02 /   Axis 1 Reference Pixel                       \n",
      "CRPIX2  =            5.075E+02 /   Axis 2 Reference Pixel                       \n",
      "CRVAL1  =          226.3114791 /   RA  at Frame Center, J2000 (deg)             \n",
      "CRVAL2  =         -57.43698256 /   Dec at Frame Center, J2000 (deg)             \n",
      "CROTA2  =      -0.004176677184 /   Image Twist +AXIS2 W of N, J2000 (deg)       \n",
      "CDELT1  =     -0.0002777777845 /   Axis 1 Pixel Size (degs)                     \n",
      "CDELT2  =      0.0002777777845 /   Axis 2 Pixel Size (degs)                     \n",
      "USXREF  =               -256.5 /   U-scan X at Grid (0,0)                       \n",
      "USYREF  =                8886. /   U-scan Y at Grid (0,0)                       \n",
      "SKYVAL  =          89.69239807 /   GFIND Sky Estimate                           \n",
      "SKYSIG  =          1.182449341 /   Grid  Noise Estimate                         \n",
      "MAGZP   =              20.8839 / Calibrated zero point from CALMAN              \n",
      "CALID   = 'y pw 0 Nov 14 2001 '/ Calibration descriptors from CALMAN            \n",
      "SEESH   =               0.9700 / Seeing shape parameter from SEEMAN             \n",
      "DXFS    =          0.338186115 /   Cross-scan Frame Step (arcsec)               \n",
      "DYFS    =          82.48558044 /      In-scan Frame Step (arcsec)               \n",
      "PIXNAM  = 'nl.pixphot - v 011003s'                                              \n",
      "QT0227  =          88.45269775 /   2.27 Percentile                              \n",
      "QT0668  =          88.90010071 /   6.68 Percentile                              \n",
      "QT1586  =          89.36631775 /  15.86 Percentile                              \n",
      "QT3085  =          89.90235901 /  30.85 Percentile                              \n",
      "QT5000  =          90.54876709 /  50.00 Percentile                              \n",
      "QT6914  =          91.46565247 /  69.14 Percentile                              \n",
      "QT8413  =          93.30753326 /  84.13 Percentile                              \n",
      "QT9331  =          98.14650726 /  93.31 Percentile                              \n",
      "QT9772  =          111.3076935 /  97.72 Percentile                              \n",
      "BASE    =                    6   / Pixel Dwell (microsec)                       \n",
      "WAVEF_P = '2massn.scn'           / Secondary waveform data file                 \n",
      "TIMER0  =                   52   / Read1 time (millisecs)                       \n",
      "TIMER1  =                 1298   / Read2-Read1 time (millisecs)                 \n",
      "TIMER2  =                   51   / Secondary settling time (millisecs)          \n",
      "ICSVERSN= '990506  '             / ICS script pgm Version (yymmdd)              \n",
      "SCHEDVER= '981228  '             / Scheduler pgm Version (yymmdd)               \n",
      "SCRIPTFN= 'survey.sct'           / Script template filename                     \n",
      "SCRPTVER= '980223  '             / Script template filename Versn (yymmdd)      \n",
      "UT_OFF1 =   7.427007299270E-01   / UT Offset (IC),SOS to frm#1 Cntr (secs)      \n",
      "XS_OFF1 =   7.500000000000E-01   / X-Scan Offset (IN),SOS to f#1 RA Cntr (ASec) \n",
      "IS_OFF1 =   3.745100000000E+02   / In-Scan Offset (IN),SOS to f#1 Dec Cntr(ASec)\n",
      "XS_OFF2 =   1.230000000000E+00   / X-Scan Offset(IN),EOS to End Frm RA Ctr(ASec)\n",
      "IS_OFF2 =  -1.149400000000E+02   / In-Scan Offset(IN),EOS to End Frm Dec Ctr(AS)\n",
      "FOCUS   =                  996   / Focus Setting                                \n",
      "NUMFRMS =                  274   / Total Number of Frames in this Scan          \n",
      "SKIPRDOS=                    0   / Total Number of SOS junk RDOs skipped (IC)   \n",
      "TELNAME = 'CTIO    '             / Telescope -30.165/+70.815 lat/lon degs       \n",
      "FILTER  = 'j       '             / Band: j, h, k                                \n",
      "UT_DATE = '990607  '             / UT Date of Frame (IC) (yymmdd)               \n",
      "UT      = '03:06:00.08'          / Time of Frame (IC) (sxgsml)                  \n",
      "AMASS_FC=       1.13494503E+00   / Airmass (aprox) at this Frame (IC) (unitless)\n",
      "GRP2_SOS= 'SOS     '             / Bgn Group#2 .par params at SOS               \n",
      "DATE_SOS= '990607  '             / Date at SOS  (yymmdd)                        \n",
      "EQUINOX =   2.000000000000E+03   / Equinox at SOS                               \n",
      "AM_SOS  =       1.15999997E+00   / Airmass at SOS (unitless)                    \n",
      "ZD_SOS  =       3.02999992E+01   / Zenith Distance at SOS (degs)                \n",
      "HA_SOS  = '+00:15:01.00'         / Hour Angle at SOS (sxgsml)                   \n",
      "UT_SOS  = '03:03:10.00'          / Scan Reference UT  (SOS) (sxgsml)            \n",
      "ST_SOS  = '15:20:15.00'          / Sidereal time at SOS  (sxgsml)               \n",
      "RA_SOS  = '15:05:14.50'          / Scan Reference RA at SOS ,epoch 2000 (sxgsml)\n",
      "DEC_SOS = '-60:09:09.0'          / Scan Reference Dec at SOS,epoch 2000 (sxgsml)\n",
      "WSPD_SOS=                    0   / Wind Speed at SOS, see WARNING below         \n",
      "WDIR_SOS=                    0   / Wind Direction at SOS, see WARNING below     \n",
      "HUM_SOS =                   21   / Humidity at SOS, 0-100%                      \n",
      "SEE_SOS =       0.00000000E+00   / Seeing at SOS, see WARNING below             \n",
      "BAR_SOS =       2.98999996E+01   / Barometer at SOS (inches of Hg)              \n",
      "AIRT_SOS=       1.16000004E+01   / Air temperature at SOS, degs Celsius         \n",
      "TELT_SOS=       1.03999996E+01   / Telescope Temp at SOS, degs Celsius          \n",
      "ARYT_SOS=      -1.90000000E+02   / Temperature of array, see WARNING below      \n",
      "GRP2_EOS= 'EOS     '             / Bgn Group#2 .par params at EOS               \n",
      "DATE_EOS= '990607  '             / Date at EOS (yymmdd)                         \n",
      "AM_EOS  =       1.10000002E+00   / Airmass at EOS (unitless)                    \n",
      "ZD_EOS  =       2.41000004E+01   / Zenith Distance at EOS (degs)                \n",
      "HA_EOS  = '+00:21:49.00'         / Hour Angle at EOS (sxgsml)                   \n",
      "UT_EOS  = '03:09:57.00'          / UT  at EOS (sxgsml)                          \n",
      "ST_EOS  = '15:27:03.00'          / ST  at EOS (sxgsml)                          \n",
      "RA_EOS  = '15:05:14.78'          / RA  at EOS, epoch 2000 (sxgsml)              \n",
      "DEC_EOS = '-53:46:09.1'          / Dec at EOS, epoch 2000 (sxgsml)              \n",
      "WSPD_EOS=                    0   / Wind Speed at SOS, see WARNING below         \n",
      "WDIR_EOS=                    0   / Wind Direction at EOS, see WARNING below     \n",
      "HUM_EOS =                   21   / Humidity at EOS, 0-100%                      \n",
      "SEE_EOS =       0.00000000E+00   / Seeing at EOS, see WARNING below             \n",
      "BAR_EOS =       2.98999996E+01   / Barometer at EOS (inches of Hg)              \n",
      "AIRT_EOS=       1.16999998E+01   / Air temperature at EOS, degs Celsius         \n",
      "TELT_EOS=       1.03999996E+01   / Telescope Temp at EOS, degs Celsius          \n",
      "ARYT_EOS=      -1.90000000E+02   / Temperature of array, see WARNING below      \n",
      "COMMENT *** WARNING *** indicated parameter not measured, dummy only            \n",
      "COMMENT src keys: (IK)=IPAC Konstant; (IC)=IPAC cmptd; (IN)=IPAC namelist       \n",
      "COMMENT           (OV)=Obsrvtry .par file variable                              \n",
      "COMMENT   Group 2 parms are ALL from the Obs .par file                          \n",
      "COMMENT   non-Group 2 parms w/o (xx) are usually fm Obs                         \n",
      "RF_NLID = 'norot sat s 980730'   / Rdframe namelist version id                  \n",
      "HISTORY * Rdframe version= 980423     jhw.  Bgn Xeq = 01-11-13 00:52:54         \n",
      "HISTORY * DFlat  vsn1.96 981203  Run on 11/13/01 at  0:50:19                    \n",
      "HISTORY > Image Created by pixphot - Version 010925p                            \n",
      "HISTORY >         Gene Kopan  IPAC/ Caltech                                     \n"
     ]
    }
   ],
   "source": [
    "print(repr(hdr))"
   ]
  },
  {
   "cell_type": "markdown",
   "metadata": {},
   "source": [
    "On the left are the header keywords. There are just a few required keywords (SIMPLE, BITPIX, NAXIS, EXTEND), the rest are determined by the programs that write the FITS files. Thus, FITS files from different instruments typically have different sets of keywords. \n",
    "\n",
    "For example, in pipeline-reduced 2MASS images the keyword 'FILTER' contains the NIR filter or band observed in. To jview the value of only that keyword type"
   ]
  },
  {
   "cell_type": "code",
   "execution_count": 6,
   "metadata": {},
   "outputs": [
    {
     "data": {
      "text/plain": [
       "'j'"
      ]
     },
     "execution_count": 6,
     "metadata": {},
     "output_type": "execute_result"
    }
   ],
   "source": [
    "hdr['FILTER']"
   ]
  },
  {
   "cell_type": "markdown",
   "metadata": {},
   "source": [
    "While most keywords are unique, the 'COMMENT' and 'HISTORY' keywords can appear multiple times in a header. When acessing them, a Python list is returned. Access both of these keywords below. "
   ]
  },
  {
   "cell_type": "code",
   "execution_count": 7,
   "metadata": {},
   "outputs": [
    {
     "data": {
      "text/plain": [
       "* Rdframe version= 980423     jhw.  Bgn Xeq = 01-11-13 00:52:54\n",
       "* DFlat  vsn1.96 981203  Run on 11/13/01 at  0:50:19\n",
       "> Image Created by pixphot - Version 010925p\n",
       ">         Gene Kopan  IPAC/ Caltech"
      ]
     },
     "execution_count": 7,
     "metadata": {},
     "output_type": "execute_result"
    }
   ],
   "source": [
    "hdr['HISTORY']"
   ]
  },
  {
   "cell_type": "markdown",
   "metadata": {},
   "source": [
    "You can add a new history line with `hdr['HISTORY'] = 'contents of new line'`. Try it out and then access the 'HISTORY' keyword."
   ]
  },
  {
   "cell_type": "code",
   "execution_count": 8,
   "metadata": {},
   "outputs": [],
   "source": []
  },
  {
   "cell_type": "markdown",
   "metadata": {},
   "source": [
    "*warning*: the command `del hdr['HISTORY']` will delete the *entire* history list. To delete the last entry, type `hdr['HISTORY'][-1] = ''` "
   ]
  },
  {
   "cell_type": "markdown",
   "metadata": {},
   "source": [
    "## Displaying image data"
   ]
  },
  {
   "cell_type": "code",
   "execution_count": null,
   "metadata": {},
   "outputs": [],
   "source": []
  }
 ],
 "metadata": {
  "kernelspec": {
   "display_name": "Python 2",
   "language": "python",
   "name": "python2"
  },
  "language_info": {
   "codemirror_mode": {
    "name": "ipython",
    "version": 2
   },
   "file_extension": ".py",
   "mimetype": "text/x-python",
   "name": "python",
   "nbconvert_exporter": "python",
   "pygments_lexer": "ipython2",
   "version": "2.7.15"
  }
 },
 "nbformat": 4,
 "nbformat_minor": 2
}
