{
 "cells": [
  {
   "cell_type": "markdown",
   "metadata": {},
   "source": [
    "# Astronomical Image Data Reduction\n",
    "## for near-infrared wavelengths\n",
    "\n",
    "Data reduction for near-infrared \\( [NIR](http://iraf.noao.edu/) \\) images is similar to visible light images except for the added steps of removing the strong atmospheric background. Traditionally this was done using the software package *IRAF* developed by the National Optical Astronomy Observatory (NOAO). This set of tools is a little buggy, and newer generations of astronomers are turning to Python instead.\n",
    "\n",
    "In this tutorial, we will practice using the *AstroPy* package in a Python environment.\n",
    "\n"
   ]
  },
  {
   "cell_type": "code",
   "execution_count": null,
   "metadata": {},
   "outputs": [],
   "source": []
  }
 ],
 "metadata": {
  "kernelspec": {
   "display_name": "Python 2",
   "language": "python",
   "name": "python2"
  },
  "language_info": {
   "codemirror_mode": {
    "name": "ipython",
    "version": 2
   },
   "file_extension": ".py",
   "mimetype": "text/x-python",
   "name": "python",
   "nbconvert_exporter": "python",
   "pygments_lexer": "ipython2",
   "version": "2.7.15"
  }
 },
 "nbformat": 4,
 "nbformat_minor": 2
}
