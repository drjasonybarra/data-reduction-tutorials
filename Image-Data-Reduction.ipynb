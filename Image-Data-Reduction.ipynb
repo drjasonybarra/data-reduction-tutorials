{
 "cells": [
  {
   "cell_type": "markdown",
   "metadata": {},
   "source": [
    "# Astronomical Image Data Reduction\n",
    "## for near-infrared wavelengths\n",
    "\n",
    "Data reduction for near-infrared \\(NIR\\) images is similar to visible light images except for the added steps of removing the strong atmospheric background. Traditionally this was done using the software package [IRAF](http://iraf.noao.edu/) developed by the National Optical Astronomy Observatory \\(NOAO\\). This set of tools is a little buggy, and newer generations of astronomers are turning to Python instead.\n",
    "\n",
    "In this tutorial, we will practice using the [AstroPy](http://docs.astropy.org/en/stable/index.html) package in a Python environment. First load the NumPy, Matplotlib Pyplot, and AstroPy FITS modules\n",
    "\n"
   ]
  },
  {
   "cell_type": "code",
   "execution_count": null,
   "metadata": {},
   "outputs": [],
   "source": [
    "import numpy as np #library for array operations and high-level math functions\n",
    "import matplotlib.pyplot as plt #for making plots\n",
    "from astropy.io import fits #to access FITS files"
   ]
  },
  {
   "cell_type": "markdown",
   "metadata": {},
   "source": [
    "## Working with FITS files\n",
    "\n",
    "FITS is the standard file format for astronomical imaging data. FITS files contain both multi-dimensional array data (1D spectra, 2D images, 3D+ data cubes) and descriptive information about the data.\n",
    "\n",
    "To read in a FITS file use the **fits.open()** function where the argument is the filename. Use the code below to read in the 2MASS *J*-band image of HII region RCW 87. "
   ]
  },
  {
   "cell_type": "code",
   "execution_count": null,
   "metadata": {},
   "outputs": [],
   "source": [
    "hdul = fits.open('RCW87_2MASS_J.fits')"
   ]
  },
  {
   "cell_type": "markdown",
   "metadata": {},
   "source": [
    "fits.open() will return a list of top-level data objects called Header Data Unit (HDU) objects. To obtain a summary of the list type **hdul.info()**"
   ]
  },
  {
   "cell_type": "code",
   "execution_count": null,
   "metadata": {},
   "outputs": [],
   "source": [
    "hdul.info()"
   ]
  },
  {
   "cell_type": "markdown",
   "metadata": {},
   "source": [
    "It is very common for a FITS file to contain only a single HDU called the PrimaryHDU which consists of header information and typically array data. If a HDU contains an array, the dimensions of the array are given.\n",
    "\n",
    "The **.header** and **.data** attributes can be used to access the header and data portions of the HDU. Common practice is to separate the header and data portions. Execute the following."
   ]
  },
  {
   "cell_type": "code",
   "execution_count": null,
   "metadata": {},
   "outputs": [],
   "source": [
    "hdr = hdul[0].header\n",
    "data = hdul[0].data"
   ]
  },
  {
   "cell_type": "markdown",
   "metadata": {},
   "source": [
    "To look at the entire header, type **print(repr(hdr))**"
   ]
  },
  {
   "cell_type": "code",
   "execution_count": null,
   "metadata": {},
   "outputs": [],
   "source": [
    "print(repr(hdr))"
   ]
  },
  {
   "cell_type": "code",
   "execution_count": null,
   "metadata": {},
   "outputs": [],
   "source": []
  }
 ],
 "metadata": {
  "kernelspec": {
   "display_name": "Python 2",
   "language": "python",
   "name": "python2"
  },
  "language_info": {
   "codemirror_mode": {
    "name": "ipython",
    "version": 2
   },
   "file_extension": ".py",
   "mimetype": "text/x-python",
   "name": "python",
   "nbconvert_exporter": "python",
   "pygments_lexer": "ipython2",
   "version": "2.7.15"
  }
 },
 "nbformat": 4,
 "nbformat_minor": 2
}
