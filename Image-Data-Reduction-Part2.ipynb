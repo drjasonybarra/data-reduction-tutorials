{
 "cells": [
  {
   "cell_type": "markdown",
   "metadata": {},
   "source": [
    "# Astronomical Image Data Reduction - Part 2\n",
    "## Stacking FITS images\n",
    "\n",
    "In this section we will learn how to *stack* images, i.e. combine image arrays using varying methods.\n",
    "\n",
    "Often images arrays are combined to reduce noise. Typical sources of noise are cosmic rays, typical photon counting \\( Poisson \\) noise, and electronic noise (thermal).\n"
   ]
  },
  {
   "cell_type": "code",
   "execution_count": 2,
   "metadata": {
    "collapsed": true
   },
   "outputs": [],
   "source": [
    "import numpy as np #library for array operations and high-level math functions\n",
    "import matplotlib.pyplot as plt #for making plots\n",
    "from astropy.io import fits #to access FITS files"
   ]
  },
  {
   "cell_type": "markdown",
   "metadata": {},
   "source": [
    "### Darks\n",
    "\n",
    "Darks are image data taken where light coming into the instrument is blocked. This data is taken because charges build up in the array wells over time even without the presence of photons. Therefore it is important to remove this *artificial* signal from the data for accurate measurements.\n",
    "\n",
    "When taking darks it is best to take 5 or more consecutive exposures of the same exposire time. The different exposure help to reduce or remove cosmic ray noise. Below we put the file names of the dark file into a list"
   ]
  },
  {
   "cell_type": "code",
   "execution_count": 4,
   "metadata": {
    "collapsed": true
   },
   "outputs": [],
   "source": [
    "dark_list = [\"data/dark120_001.fits\",\"data/dark120_002.fits\",\"data/dark120_003.fits\",\\\n",
    "             \"data/dark120_004.fits\",\"data/dark120_005.fits\"]"
   ]
  },
  {
   "cell_type": "markdown",
   "metadata": {},
   "source": [
    "Some Pythonic code below lets us import the image data from the files in the list"
   ]
  },
  {
   "cell_type": "code",
   "execution_count": 5,
   "metadata": {
    "collapsed": false
   },
   "outputs": [],
   "source": [
    "dark_imdata = [fits.open(image)[0].data for image in dark_list]"
   ]
  },
  {
   "cell_type": "markdown",
   "metadata": {},
   "source": [
    "This produces a list of the image arrays. These images are accessed by index, so that\n",
    "`dark_imdata[0]` contains the image data for the first file. It would be good to check the size of all the image arrays in the list to make sure they are the same. Do this below "
   ]
  },
  {
   "cell_type": "code",
   "execution_count": null,
   "metadata": {
    "collapsed": false
   },
   "outputs": [],
   "source": []
  },
  {
   "cell_type": "markdown",
   "metadata": {},
   "source": [
    "The simplest way to combine the data is to sum (stack) the images and them divide by the number of images to get a **mean** image. Try it below."
   ]
  },
  {
   "cell_type": "code",
   "execution_count": 13,
   "metadata": {
    "collapsed": false
   },
   "outputs": [],
   "source": [
    "dark_mean = np.sum(dark_imdata, axis=0) / 5."
   ]
  },
  {
   "cell_type": "markdown",
   "metadata": {},
   "source": [
    "Plot the last dark image in the list \\( dark_imdata[4] \\) and compare to the plot of the mean image. I recommend `vmin=-20, vmax=20` \n",
    "\n",
    "(Helpful Tip: You can adjust the figure size adding the line `plt.rcParams['figure.figsize'] = [7, 7]`)"
   ]
  },
  {
   "cell_type": "code",
   "execution_count": null,
   "metadata": {
    "collapsed": false
   },
   "outputs": [],
   "source": []
  },
  {
   "cell_type": "markdown",
   "metadata": {},
   "source": [
    "The following code allows you to save the image you created to a FITS file. "
   ]
  },
  {
   "cell_type": "code",
   "execution_count": 53,
   "metadata": {
    "collapsed": false
   },
   "outputs": [],
   "source": [
    "newhdu = fits.PrimaryHDU(dark_mean)\n",
    "newhdu.writeto(\"data/dark120s_mean.fits\")"
   ]
  },
  {
   "cell_type": "markdown",
   "metadata": {},
   "source": [
    "This simple method does not do a good job of removing cosmic rays. Another method to use is take the **median** at each pixel. Use the code below."
   ]
  },
  {
   "cell_type": "code",
   "execution_count": 63,
   "metadata": {
    "collapsed": true
   },
   "outputs": [],
   "source": [
    "dark_median = np.median(dark_imdata, axis=0)"
   ]
  },
  {
   "cell_type": "markdown",
   "metadata": {},
   "source": [
    "Compare to the other images."
   ]
  },
  {
   "cell_type": "code",
   "execution_count": null,
   "metadata": {
    "collapsed": false
   },
   "outputs": [],
   "source": []
  },
  {
   "cell_type": "code",
   "execution_count": 66,
   "metadata": {
    "collapsed": true
   },
   "outputs": [],
   "source": [
    "newhdu = fits.PrimaryHDU(dark_median)\n",
    "newhdu.writeto(\"data/dark120s_median.fits\")"
   ]
  },
  {
   "cell_type": "code",
   "execution_count": null,
   "metadata": {
    "collapsed": true
   },
   "outputs": [],
   "source": []
  }
 ],
 "metadata": {
  "kernelspec": {
   "display_name": "Python 2",
   "language": "python",
   "name": "python2"
  },
  "language_info": {
   "codemirror_mode": {
    "name": "ipython",
    "version": 2
   },
   "file_extension": ".py",
   "mimetype": "text/x-python",
   "name": "python",
   "nbconvert_exporter": "python",
   "pygments_lexer": "ipython2",
   "version": "2.7.10"
  }
 },
 "nbformat": 4,
 "nbformat_minor": 2
}
