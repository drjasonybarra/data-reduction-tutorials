{
 "cells": [
  {
   "cell_type": "markdown",
   "metadata": {},
   "source": [
    "# Astronomical Image Data Reduction - Part 1\n",
    "## Working with FITS images\n",
    "\n",
    "Data reduction for near-infrared \\(NIR\\) images is similar to visible light images except for the added steps of removing the strong atmospheric background. Traditionally this was done using the software package [IRAF](http://iraf.noao.edu/) developed by the National Optical Astronomy Observatory \\(NOAO\\). This set of tools is a little buggy, and newer generations of astronomers are turning to Python instead.\n",
    "\n",
    "In this tutorial, we will practice using the [AstroPy](http://docs.astropy.org/en/stable/index.html) package in a Python environment. First load the NumPy, Matplotlib Pyplot, and AstroPy FITS modules\n",
    "\n"
   ]
  },
  {
   "cell_type": "code",
   "execution_count": null,
   "metadata": {},
   "outputs": [],
   "source": [
    "import numpy as np #library for array operations and high-level math functions\n",
    "import matplotlib.pyplot as plt #for making plots\n",
    "from astropy.io import fits #to access FITS files"
   ]
  },
  {
   "cell_type": "markdown",
   "metadata": {},
   "source": [
    "## Working with FITS files\n",
    "\n",
    "FITS is the standard file format for astronomical imaging data. FITS files contain both multi-dimensional array data (1D spectra, 2D images, 3D+ data cubes) and descriptive information about the data.\n",
    "\n",
    "To read in a FITS file use the `fits.open()` function where the argument is the filename. Use the code below to read in the 2MASS *J*-band image of HII region RCW 87. "
   ]
  },
  {
   "cell_type": "code",
   "execution_count": null,
   "metadata": {},
   "outputs": [],
   "source": [
    "hdul = fits.open('RCW87_2MASS_J.fits')"
   ]
  },
  {
   "cell_type": "markdown",
   "metadata": {},
   "source": [
    "fits.open() will return a list of top-level data objects called Header Data Unit (HDU) objects. To obtain a summary of the list type ``hdul.info()``"
   ]
  },
  {
   "cell_type": "code",
   "execution_count": null,
   "metadata": {},
   "outputs": [],
   "source": [
    "hdul.info()"
   ]
  },
  {
   "cell_type": "markdown",
   "metadata": {},
   "source": [
    "It is very common for a FITS file to contain only a single HDU called the PrimaryHDU which consists of header information and typically array data. If a HDU contains an array, the dimensions of the array are given.\n",
    "\n",
    "The `.header` and `.data` attributes can be used to access the header and data portions of the HDU. Common practice is to separate the header and data portions. Execute the following."
   ]
  },
  {
   "cell_type": "code",
   "execution_count": null,
   "metadata": {},
   "outputs": [],
   "source": [
    "hdr = hdul[0].header\n",
    "data = hdul[0].data"
   ]
  },
  {
   "cell_type": "markdown",
   "metadata": {},
   "source": [
    "To look at the entire header, type `print(repr(hdr))`"
   ]
  },
  {
   "cell_type": "code",
   "execution_count": null,
   "metadata": {},
   "outputs": [],
   "source": [
    "print(repr(hdr))"
   ]
  },
  {
   "cell_type": "markdown",
   "metadata": {},
   "source": [
    "On the left are the header keywords. There are just a few required keywords (SIMPLE, BITPIX, NAXIS, EXTEND), the rest are determined by the programs that write the FITS files. Thus, FITS files from different instruments typically have different sets of keywords. \n",
    "\n",
    "For example, in pipeline-reduced 2MASS images the keyword 'FILTER' contains the NIR filter or band observed in. To jview the value of only that keyword type"
   ]
  },
  {
   "cell_type": "code",
   "execution_count": null,
   "metadata": {},
   "outputs": [],
   "source": [
    "hdr['FILTER']"
   ]
  },
  {
   "cell_type": "markdown",
   "metadata": {},
   "source": [
    "While most keywords are unique, the 'COMMENT' and 'HISTORY' keywords can appear multiple times in a header. When acessing them, a Python list is returned. Access both of these keywords below. "
   ]
  },
  {
   "cell_type": "code",
   "execution_count": null,
   "metadata": {},
   "outputs": [],
   "source": [
    "hdr['HISTORY']"
   ]
  },
  {
   "cell_type": "markdown",
   "metadata": {},
   "source": [
    "You can add a new history line with `hdr['HISTORY'] = 'contents of new line'`. Try it out and then access the 'HISTORY' keyword."
   ]
  },
  {
   "cell_type": "code",
   "execution_count": null,
   "metadata": {},
   "outputs": [],
   "source": []
  },
  {
   "cell_type": "markdown",
   "metadata": {},
   "source": [
    "*warning*: the command `del hdr['HISTORY']` will delete the *entire* history list. To delete the last entry, type `hdr['HISTORY'][-1] = ''` "
   ]
  },
  {
   "cell_type": "markdown",
   "metadata": {},
   "source": [
    "## Displaying image data"
   ]
  },
  {
   "cell_type": "code",
   "execution_count": null,
   "metadata": {},
   "outputs": [],
   "source": [
    "plt.imshow(data, cmap='gray')\n",
    "plt.colorbar()"
   ]
  },
  {
   "cell_type": "markdown",
   "metadata": {},
   "source": [
    "In the above plot the entire range of pixels values is plotted (AKA minmax). Given the large dynamic range of the data, this is usually not useful. It is better to carefully select the range to plot. We can use the NumPy median and standard deviation functions to help determine this range"
   ]
  },
  {
   "cell_type": "code",
   "execution_count": null,
   "metadata": {},
   "outputs": [],
   "source": [
    "print(np.median(data))\n",
    "print(np.std(data))"
   ]
  },
  {
   "cell_type": "markdown",
   "metadata": {},
   "source": [
    "Plot the image again this time setting the `vmin` paramenter to the median pixel value, and the `vmax` parameter to the median + standard deviation."
   ]
  },
  {
   "cell_type": "code",
   "execution_count": null,
   "metadata": {},
   "outputs": [],
   "source": []
  },
  {
   "cell_type": "markdown",
   "metadata": {},
   "source": [
    "It is often desirable to reverse the grayscale from white to black. In order to do this, append '\\_r' to the colormap name (e.g. `cmap='gray_r'`). Try it below."
   ]
  },
  {
   "cell_type": "code",
   "execution_count": null,
   "metadata": {},
   "outputs": [],
   "source": []
  },
  {
   "cell_type": "markdown",
   "metadata": {},
   "source": [
    "It is also possible to choose other colormaps. Try the following colormaps:\n",
    "- jet\n",
    "- gnuplot\n",
    "- gist_stern"
   ]
  },
  {
   "cell_type": "code",
   "execution_count": null,
   "metadata": {},
   "outputs": [],
   "source": []
  },
  {
   "cell_type": "markdown",
   "metadata": {},
   "source": [
    "Up Next: Stacking images"
   ]
  }
 ],
 "metadata": {
  "kernelspec": {
   "display_name": "Python 2",
   "language": "python",
   "name": "python2"
  },
  "language_info": {
   "codemirror_mode": {
    "name": "ipython",
    "version": 2
   },
   "file_extension": ".py",
   "mimetype": "text/x-python",
   "name": "python",
   "nbconvert_exporter": "python",
   "pygments_lexer": "ipython2",
   "version": "2.7.15"
  }
 },
 "nbformat": 4,
 "nbformat_minor": 2
}
